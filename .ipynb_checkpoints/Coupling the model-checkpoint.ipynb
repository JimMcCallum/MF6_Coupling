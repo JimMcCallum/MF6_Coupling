{
 "cells": [
  {
   "cell_type": "markdown",
   "id": "98a6a9dd",
   "metadata": {},
   "source": [
    "# Converting Mesh to DISV information"
   ]
  },
  {
   "cell_type": "code",
   "execution_count": 27,
   "id": "34cf88a5",
   "metadata": {},
   "outputs": [],
   "source": [
    "import numpy as np\n",
    "import scipy as sp\n",
    "import pylab as plt"
   ]
  },
  {
   "cell_type": "markdown",
   "id": "bfc7e5b4",
   "metadata": {},
   "source": [
    "## Structure of the mesh file\n",
    "The structure of the file\n",
    "\n",
    "Header row\n",
    "\n",
    "Header row\n",
    "\n",
    "Cell information\n",
    "\n",
    "Node coordinates"
   ]
  },
  {
   "cell_type": "markdown",
   "id": "b00b9f41",
   "metadata": {},
   "source": [
    "## Function to read file"
   ]
  },
  {
   "cell_type": "code",
   "execution_count": 35,
   "id": "839849c8",
   "metadata": {},
   "outputs": [],
   "source": [
    "## Function that takes one of the TUFLOW mesh files and generates the DISV features\n",
    "def tuflow_2_disv(Filename):\n",
    "    \"\"\"\n",
    "    Input:\n",
    "        Filename -Name of the file to open\n",
    "    Output:\n",
    "        cell2d - the input to flopy disv object\n",
    "        vertices - vertex information for flopy disv object\n",
    "        TOP - top elevation of cells\n",
    "    \"\"\"\n",
    "    \n",
    "    f = open(Filename,'r')\n",
    "    # Burn headers \n",
    "    f.readline()\n",
    "    f.readline()\n",
    "    #set up dummy arrays:\n",
    "    Node_inf = []\n",
    "    Cell_inf = []\n",
    "    #get what you need from the file\n",
    "    while True:\n",
    "        l = f.readline().strip().split()\n",
    "        #print(l)\n",
    "        if l[0] == 'ND':\n",
    "            Node_inf.append(l[1:])\n",
    "        elif l[0] == 'NS':\n",
    "            break\n",
    "        else:\n",
    "            Cell_inf.append(l[2:-1])\n",
    "    #print(Cell_inf)\n",
    "    #print(Node_inf)\n",
    "    vertices = []\n",
    "    x = []\n",
    "    y = []\n",
    "    z = [] #save for top\n",
    "    for vert in range(len(Node_inf)):\n",
    "        vertices.append([vert,\n",
    "                         float(Node_inf[vert][1]),\n",
    "                         float(Node_inf[vert][2])])\n",
    "        x.append(float(Node_inf[vert][1]))\n",
    "        y.append(float(Node_inf[vert][2]))\n",
    "        z.append(float(Node_inf[vert][3]))\n",
    "    x, y, z = np.array(x), np.array(y), np.array(z)\n",
    "    \n",
    "    #print(x[-1],y[-1],z[-1])\n",
    "    #print(vertices[-1])\n",
    "    cell2d = []\n",
    "    top = []\n",
    "    for cell in range(len(Cell_inf)):\n",
    "        icvert = []\n",
    "        for vert in Cell_inf[cell]:\n",
    "            icvert.append(int(vert)-1)\n",
    "        top.append(np.average(z[icvert]))\n",
    "        xc = np.average(x[icvert])\n",
    "        yc = np.average(x[icvert])\n",
    "        rec = [vert,xc,yc,len(icvert)]\n",
    "        rec = rec + icvert\n",
    "        cell2d.append(rec)\n",
    "    #print(cell2d[-1],top[-1])\n",
    "    \n",
    "    return(vertices,cell2d,top)\n",
    "        \n",
    "        \n",
    "    \n",
    "    \n",
    "\n",
    "    "
   ]
  },
  {
   "cell_type": "code",
   "execution_count": 36,
   "id": "a7df1fbf",
   "metadata": {},
   "outputs": [],
   "source": [
    "fname = 'Woogompah_tfvaed_mesh_v1.2dm'\n",
    "vertices,cell2d,top = tuflow_2_disv(fname)\n"
   ]
  },
  {
   "cell_type": "markdown",
   "id": "fbdf4f31",
   "metadata": {},
   "source": [
    "# Make the flopy script (Flow only)"
   ]
  },
  {
   "cell_type": "code",
   "execution_count": null,
   "id": "27a5c50d",
   "metadata": {},
   "outputs": [],
   "source": []
  },
  {
   "cell_type": "code",
   "execution_count": null,
   "id": "9fee4fb3",
   "metadata": {},
   "outputs": [],
   "source": []
  },
  {
   "cell_type": "markdown",
   "id": "07d5f4ab",
   "metadata": {},
   "source": [
    "# Run it with the API"
   ]
  }
 ],
 "metadata": {
  "kernelspec": {
   "display_name": "Python 3 (ipykernel)",
   "language": "python",
   "name": "python3"
  },
  "language_info": {
   "codemirror_mode": {
    "name": "ipython",
    "version": 3
   },
   "file_extension": ".py",
   "mimetype": "text/x-python",
   "name": "python",
   "nbconvert_exporter": "python",
   "pygments_lexer": "ipython3",
   "version": "3.8.16"
  }
 },
 "nbformat": 4,
 "nbformat_minor": 5
}
